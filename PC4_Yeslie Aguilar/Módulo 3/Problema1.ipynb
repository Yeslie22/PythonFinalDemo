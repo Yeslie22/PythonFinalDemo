{
 "cells": [
  {
   "cell_type": "markdown",
   "metadata": {},
   "source": [
    "# Credit"
   ]
  },
  {
   "cell_type": "markdown",
   "metadata": {},
   "source": [
    "Implemente un programa que determine si un número de tarjeta de crédito proporcionado es válido según el algoritmo de Luhn."
   ]
  },
  {
   "cell_type": "markdown",
   "metadata": {},
   "source": [
    "<code>$ python credit.py\n",
    "Number: 378282246310005\n",
    "AMEX</code>\n"
   ]
  },
  {
   "cell_type": "markdown",
   "metadata": {},
   "source": [
    "Una tarjeta de crédito (o débito), por supuesto, es una tarjeta de plástico con la que puede pagar bienes y servicios. Impreso en esa tarjeta hay un número que también está almacenado en una base de datos en algún lugar, de modo que cuando su tarjeta se usa para comprar algo, el acreedor sabe a quién facturar. Hay muchas personas con tarjetas de crédito en este mundo, por lo que esos números son bastante largos: American Express usa números de 15 dígitos, MasterCard usa números de 16 dígitos y Visa usa números de 13 y 16 dígitos. Y esos dígitos son números decimales (0 a 9), no binarios, lo que significa, por ejemplo, que American Express podría imprimir hasta 10 ^ 15 = 1,000,000,000,000,000 tarjetas únicas. (Eso es, um, un billón).\n",
    "\n",
    "En realidad, eso es un poco exagerado, porque los números de las tarjetas de crédito en realidad tienen cierta estructura. Todos los números de American Express comienzan con 34 o 37; la mayoría de los números de MasterCard comienzan con 51, 52, 53, 54 o 55; y todos los números de Visa comienzan con 4. Pero los números de tarjetas de crédito también tienen una \"suma de verificación\" incorporada, una relación matemática entre al menos un número y otros. Esa suma de comprobación permite a las computadoras (o humanos a los que les gustan las matemáticas) detectar errores tipográficos (por ejemplo, transposiciones), si no números fraudulentos, sin tener que consultar una base de datos, lo que puede ser lento. Por supuesto, un matemático deshonesto podría sin duda crear un número falso que, sin embargo, respete la restricción matemática, por lo que una búsqueda en la base de datos aún es necesaria para verificaciones más rigurosas."
   ]
  },
  {
   "cell_type": "markdown",
   "metadata": {},
   "source": [
    "## Especificaciones"
   ]
  },
  {
   "cell_type": "markdown",
   "metadata": {},
   "source": [
    "- En <code>credit.py</code> escribir un programa que solicita al usuario un número de tarjeta de crédito y luego informes (a través de <code>print</code>) si se trata de una válida American Express, MasterCard, o número de tarjeta Visa.\n",
    "- Para que podamos automatizar algunas pruebas de su código, le pedimos que la última línea de salida de su programa sea <code>AMEX\\n</code>o <code>MASTERCARD\\n</code> o <code>VISA\\n</code> o <code>INVALID\\n</code> , nada más, nada menos.\n",
    "- Para simplificar, puede suponer que la entrada del usuario será completamente numérica (es decir, sin guiones, como podría estar impreso en una tarjeta real)."
   ]
  },
  {
   "cell_type": "markdown",
   "metadata": {},
   "source": [
    "## Uso"
   ]
  },
  {
   "cell_type": "markdown",
   "metadata": {},
   "source": [
    "Su programa debería comportarse según el ejemplo siguiente."
   ]
  },
  {
   "cell_type": "markdown",
   "metadata": {},
   "source": [
    "<code>$ python credit.py\n",
    "Number: 378282246310005\n",
    "AMEX</code>"
   ]
  },
  {
   "cell_type": "markdown",
   "metadata": {},
   "source": [
    "## Algoritmo de Luhn"
   ]
  },
  {
   "cell_type": "markdown",
   "metadata": {},
   "source": [
    "Entonces, ¿cuál es la fórmula secreta? Bueno, la mayoría de las tarjetas utilizan un algoritmo inventado por Hans Peter Luhn de IBM. De acuerdo con el algoritmo de Luhn, puede determinar si un número de tarjeta de crédito es (sintácticamente) válido de la siguiente manera:\n",
    "\n",
    "1. Multiplica cada dos dígitos por 2, comenzando con el penúltimo dígito del número y luego suma los dígitos de esos productos.\n",
    "2. Suma la suma a la suma de los dígitos que no se multiplicaron por 2.\n",
    "3. Si el último dígito del total es 0 (o, dicho de manera más formal, si el módulo total 10 es congruente con 0), ¡el número es válido!\n",
    "\n",
    "Eso es un poco confuso, así que probemos un ejemplo con la visa de David: 4003600000000014.\n",
    "\n",
    "1. Por el bien de la discusión, primero subrayemos cada dos dígitos, comenzando con el penúltimo dígito del número:\n",
    "\n",
    "    **4** 0 **0** 3 **6** 0 **0** 0 **0** 0 **0** 0 **0** 0 **1** 4\n",
    "\n",
    "    Bien, multipliquemos cada uno de los dígitos subrayados por 2:\n",
    "\n",
    "    1 • 2 + 0 • 2 + 0 • 2 + 0 • 2 + 0 • 2 + 6 • 2 + 0 • 2 + 4 • 2\n",
    "\n",
    "    Eso nos da:\n",
    "\n",
    "    2 + 0 + 0 + 0 + 0 + 12 + 0 + 8\n",
    "\n",
    "2. Ahora agreguemos los dígitos de esos productos (es decir, no los productos en sí) juntos:\n",
    "\n",
    "    2 + 0 + 0 + 0 + 0 + 1 + 2 + 0 + 8 = 13\n",
    "\n",
    "    Ahora agreguemos esa suma (13) a la suma de los dígitos que no fueron multiplicados por 2 (comenzando desde el final):\n",
    "\n",
    "    13 + 4 + 0 + 0 + 0 + 0 + 0 + 3 + 0 = 20\n",
    "\n",
    "3. Sí, el último dígito de esa suma (20) es un 0, ¡así que la tarjeta de David es legítima!\n",
    "\n",
    "Por lo tanto, validar los números de tarjetas de crédito no es difícil, pero se vuelve un poco tedioso a mano. Escribamos un programa."
   ]
  },
  {
   "cell_type": "markdown",
   "metadata": {},
   "source": [
    "## Pruebas"
   ]
  },
  {
   "cell_type": "markdown",
   "metadata": {},
   "source": [
    "- Ejecute su programa como python <code>credit.py</code>y espere a que se le solicite la entrada. Escribe <code>378282246310005</code> y presiona enter. Su programa debería generar <code>AMEX</code>.\n",
    "- Ejecute su programa como python <code>credit.py</code> y espere a que se le solicite la entrada. Escribe <code>371449635398431</code> y presiona enter. Su programa debería generar <code>AMEX</code>.\n",
    "- Ejecute su programa como python <code>credit.py</code> y espere a que se le solicite la entrada. Escribe <code>5555555555554444</code> y presiona enter. Su programa debería generar <code>MASTERCARD</code>.\n",
    "- Ejecute su programa como python <code>credit.py</code> y espere a que se le solicite la entrada. Escribe <code>5105105105105100</code> y presiona enter. Su programa debería generar <code>MASTERCARD</code>.\n",
    "- Ejecute su programa como python <code>credit.py</code> y espere a que se le solicite la entrada. Escribe <code>4111111111111111</code> y presiona enter. Su programa debería generar <code>VISA</code>.\n",
    "- Ejecute su programa como python <code>credit.py</code> y espere a que se le solicite la entrada. Escribe <code>4012888888881881</code> y presiona enter. Su programa debería generar <code>VISA</code>.\n",
    "- Ejecute su programa como python <code>credit.py</code> y espere a que se le solicite la entrada. Escribe <code>1234567890</code> y presiona enter. Su programa debería generar <code>INVALID</code> ."
   ]
  },
  {
   "cell_type": "markdown",
   "metadata": {},
   "source": [
    "Aqui más códigos de tarjetas de paypal para validar <a href='https://developer.paypal.com/docs/payflow/payflow-pro/payflow-pro-testing/#credit-card-numbers-for-testing'>link</a>"
   ]
  },
  {
   "cell_type": "code",
   "execution_count": 7,
   "metadata": {},
   "outputs": [
    {
     "name": "stdin",
     "output_type": "stream",
     "text": [
      "Ingrese el número de su tarjeta, por favor:  4012888888881881\n"
     ]
    },
    {
     "name": "stdout",
     "output_type": "stream",
     "text": [
      "VISA\n"
     ]
    }
   ],
   "source": [
    "entrada= input('Ingrese el número de su tarjeta, por favor: ')\n",
    "def validacion(entrada): \n",
    "    digit = len(entrada)\n",
    "    value = 0\n",
    "    total = 0\n",
    "    while  digit > 0: \n",
    "        if ((len(entrada)+1-digit) % 2 == 0):\n",
    "            value = ( int( entrada[digit - 1]) * 2 )\n",
    "        if (value > 9 ):\n",
    "            double = str( value )\n",
    "            value = int( double[:1]) + int(double[-1])\n",
    "            total = total + value\n",
    "            digit = digit - 1\n",
    "        elif ((len(entrada)+1-digit) % 2 != 0): \n",
    "            value=int(entrada[digit - 1])\n",
    "            total = total + int(entrada[digit - 1])\n",
    "            digit = digit - 1\n",
    "        else:\n",
    "            total = total + value\n",
    "            digit-=  1\n",
    "    return total\n",
    "\n",
    "def tarjeta(entrada):\n",
    "    if (len(entrada)==15):\n",
    "        if ((entrada[0]=='3' and entrada[1]=='4') or (entrada[0]=='3' and entrada[1]=='7')):\n",
    "            salida= 'AMEX'\n",
    "        else: \n",
    "            salida= 'INVALID'\n",
    "            \n",
    "    elif (len(entrada)==16):\n",
    "        if ((entrada[0]=='5' and entrada[1]=='1') or (entrada[0]=='5' and entrada[1]=='2') or (entrada[0]=='5' and entrada[1]=='3') or (entrada[0]=='5' and entrada[1]=='4') or (entrada[0]=='5' and entrada[1]=='5')):\n",
    "            salida= 'MASTERCARD'\n",
    "        elif (entrada[0]=='4' ):\n",
    "            salida= 'VISA'\n",
    "        else: \n",
    "            salida= 'INVALID'\n",
    "\n",
    "    elif (len(entrada)==13):\n",
    "        salida= 'VISA'\n",
    "\n",
    "    else: \n",
    "        salida= 'INVALID'\n",
    "\n",
    "    return salida\n",
    "\n",
    "estadito= validacion(entrada)\n",
    "totalito= str(estadito)\n",
    "m=0\n",
    "while m < len(totalito):\n",
    "    a=0\n",
    "    for i in totalito:  \n",
    "        if i == '0':\n",
    "            a+=1\n",
    "    m+=1\n",
    "\n",
    "if a > 0:\n",
    "    x= tarjeta(entrada)\n",
    "else: \n",
    "    x= 'INVALID'\n",
    "\n",
    "print(x)"
   ]
  },
  {
   "cell_type": "code",
   "execution_count": 77,
   "metadata": {},
   "outputs": [
    {
     "name": "stdin",
     "output_type": "stream",
     "text": [
      "Ingrese el número de su tarjeta, por favor:  378282246310005\n"
     ]
    },
    {
     "name": "stdout",
     "output_type": "stream",
     "text": [
      "Usted valida una tarjeta American Express\n"
     ]
    }
   ],
   "source": [
    "entrada= input('Ingrese el número de su tarjeta, por favor: ')\n",
    "\n",
    "def tarjeta(entrada):\n",
    "    if (len(entrada)==15):\n",
    "        if ((entrada[0]=='3' and entrada[1]=='4') or (entrada[0]=='3' and entrada[1]=='7')):\n",
    "            print('Usted valida una tarjeta American Express')\n",
    "        else: \n",
    "            print('El número de tarjeta es incorrecto')\n",
    "\n",
    "    elif (len(entrada)==16):\n",
    "        if ((entrada[0]=='5' and entrada[1]=='1') or (entrada[0]=='5' and entrada[1]=='2') or (entrada[0]=='5' and entrada[1]=='3') or (entrada[0]=='5' and entrada[1]=='4') or (entrada[0]=='5' and entrada[1]=='5')):\n",
    "            print('Usted valida una tarjeta Mastercard')\n",
    "        elif (entrada[0]=='4' ):\n",
    "            print('Usted valida una tarjeta Visa')\n",
    "        else: \n",
    "            print('El número es incorrecto')\n",
    "\n",
    "    elif (len(entrada)==13):\n",
    "        print('Usted valida una tarjeta Visa')\n",
    "\n",
    "    else: \n",
    "        print('El número de tarjeta es incorrecto')\n",
    "    \n",
    "tarjeta(entrada)"
   ]
  },
  {
   "cell_type": "code",
   "execution_count": 45,
   "metadata": {},
   "outputs": [
    {
     "name": "stdin",
     "output_type": "stream",
     "text": [
      "Ingrese el número de su tarjeta, por favor:  4012888888881881\n"
     ]
    },
    {
     "data": {
      "text/plain": [
       "'VISA'"
      ]
     },
     "execution_count": 45,
     "metadata": {},
     "output_type": "execute_result"
    }
   ],
   "source": [
    "entrada= input('Ingrese el número de su tarjeta, por favor: ')\n",
    "\n",
    "def tarjeta(entrada):\n",
    "    if (len(entrada)==15):\n",
    "        if ((entrada[0]=='3' and entrada[1]=='4') or (entrada[0]=='3' and entrada[1]=='7')):\n",
    "            salida= 'AMEX'\n",
    "        else: \n",
    "            salida= 'INVALID'\n",
    "            \n",
    "    elif (len(entrada)==16):\n",
    "        if ((entrada[0]=='5' and entrada[1]=='1') or (entrada[0]=='5' and entrada[1]=='2') or (entrada[0]=='5' and entrada[1]=='3') or (entrada[0]=='5' and entrada[1]=='4') or (entrada[0]=='5' and entrada[1]=='5')):\n",
    "            salida= 'MASTERCARD'\n",
    "        elif (entrada[0]=='4' ):\n",
    "            salida= 'VISA'\n",
    "        else: \n",
    "            salida= 'INVALID'\n",
    "\n",
    "    elif (len(entrada)==13):\n",
    "        salida= 'VISA'\n",
    "\n",
    "    else: \n",
    "        salida= 'INVALID'\n",
    "\n",
    "    return salida\n",
    "tarjeta(entrada)"
   ]
  },
  {
   "cell_type": "code",
   "execution_count": 8,
   "metadata": {},
   "outputs": [
    {
     "name": "stdout",
     "output_type": "stream",
     "text": [
      "VISA\n"
     ]
    }
   ],
   "source": [
    "total= 233450\n",
    "totalito= str(total)\n",
    "m=0\n",
    "while m < len(totalito):\n",
    "    a=0\n",
    "    for i in totalito:  \n",
    "        if i == '9':\n",
    "            a+=1\n",
    "    m+=1\n",
    "\n",
    "if a > 0:\n",
    "    x='yes'\n",
    "\n",
    "print(x)"
   ]
  },
  {
   "cell_type": "code",
   "execution_count": 36,
   "metadata": {},
   "outputs": [
    {
     "name": "stdout",
     "output_type": "stream",
     "text": [
      "0\n"
     ]
    }
   ],
   "source": [
    "NumT = input( \"What is your card number? \")\n",
    "\n",
    "digit = len(NumT)\n",
    "value = 0\n",
    "total = 0\n",
    "while  digit > 0: \n",
    "    if ((len(NumT)+1-digit) % 2 == 0):\n",
    "        value = ( int( NumT[digit - 1]) * 2 )\n",
    "        \n",
    "    if (value > 9 ):\n",
    "        double = str( value )\n",
    "        value = int( double[:1]) + int(double[-1])\n",
    "        total = total + value\n",
    "        digit = digit - 1\n",
    "    elif ((len(NumT)+1-digit) % 2 != 0): \n",
    "        value=int(NumT[digit - 1])\n",
    "        total = total + int(NumT[digit - 1])\n",
    "        digit = digit - 1\n",
    "    \n",
    "    else:\n",
    "        total = total + value\n",
    "        digit-=  1\n",
    "print(total)"
   ]
  },
  {
   "cell_type": "code",
   "execution_count": null,
   "metadata": {},
   "outputs": [],
   "source": []
  }
 ],
 "metadata": {
  "kernelspec": {
   "display_name": "Python 3",
   "language": "python",
   "name": "python3"
  },
  "language_info": {
   "codemirror_mode": {
    "name": "ipython",
    "version": 3
   },
   "file_extension": ".py",
   "mimetype": "text/x-python",
   "name": "python",
   "nbconvert_exporter": "python",
   "pygments_lexer": "ipython3",
   "version": "3.8.5"
  }
 },
 "nbformat": 4,
 "nbformat_minor": 4
}
