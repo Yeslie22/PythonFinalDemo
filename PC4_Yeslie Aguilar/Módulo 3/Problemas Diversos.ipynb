{
 "cells": [
  {
   "cell_type": "markdown",
   "metadata": {},
   "source": [
    "# PROBLEMAS DIVERSOS"
   ]
  },
  {
   "cell_type": "markdown",
   "metadata": {},
   "source": [
    "<h3>1.</h3>\n",
    "Realizar una función que permita la carga de n alumnos. Por cada alumno se deberá preguntar el nombre completo y permitir el ingreso de 3 notas. Las notas deben estar comprendidas entre 0 y 10. Devolver el listado de alumnos."
   ]
  },
  {
   "cell_type": "code",
   "execution_count": 1,
   "metadata": {},
   "outputs": [
    {
     "name": "stdin",
     "output_type": "stream",
     "text": [
      "Introduce la cantidad de alumnos:  2\n",
      "Ingrese el nombre completo sdaas\n",
      "Ingrese nota 1 1\n",
      "Ingrese nota 2 2\n",
      "Ingrese nota 3 3\n",
      "Ingrese el nombre completo dsds\n",
      "Ingrese nota 1 6\n",
      "Ingrese nota 2 7\n",
      "Ingrese nota 3 8\n"
     ]
    }
   ],
   "source": [
    "def lista_alumnos(num_alumnos):\n",
    "    alumnos=[]\n",
    "    for n in range(num_alumnos):\n",
    "        alumno = {}\n",
    "        \n",
    "        alumno['Nombre'] = input('Ingrese el nombre completo')\n",
    "        alumno['Nota1'] = float(input('Ingrese nota 1'))\n",
    "        alumno['Nota2'] = float(input('Ingrese nota 2'))\n",
    "        alumno['Nota3'] = float(input('Ingrese nota 3'))\n",
    "        \n",
    "        alumnos.append(alumno)\n",
    "    return alumnos\n",
    "num_alumnos = int(input('Introduce la cantidad de alumnos: '))\n",
    "list_alumnos = lista_alumnos(num_alumnos)"
   ]
  },
  {
   "cell_type": "code",
   "execution_count": 2,
   "metadata": {},
   "outputs": [
    {
     "data": {
      "text/plain": [
       "[{'Nombre': 'sdaas', 'Nota1': 1.0, 'Nota2': 2.0, 'Nota3': 3.0},\n",
       " {'Nombre': 'dsds', 'Nota1': 6.0, 'Nota2': 7.0, 'Nota3': 8.0}]"
      ]
     },
     "execution_count": 2,
     "metadata": {},
     "output_type": "execute_result"
    }
   ],
   "source": [
    "list_alumnos\n"
   ]
  },
  {
   "cell_type": "markdown",
   "metadata": {},
   "source": [
    "### 2.\n",
    "Definir una función que dado un listado de alumnos evalúe cuántos aprobaron y cuántos desaprobaron, teniendo en cuenta que se aprueba con 4. La nota será el promedio de las 3 notas para cada alumno."
   ]
  },
  {
   "cell_type": "code",
   "execution_count": null,
   "metadata": {},
   "outputs": [],
   "source": [
    "def lista_alumnos(num_alumnos):\n",
    "    alumnos=[]\n",
    "    for n in range(num_alumnos):\n",
    "        alumno = {} \n",
    "        alumno['Nombre'] = input('Ingrese el nombre completo')\n",
    "        alumno['Nota1'] = float(input('Ingrese nota 1:'))\n",
    "        alumno['Nota2'] = float(input('Ingrese nota 2:'))\n",
    "        alumno['Nota3'] = float(input('Ingrese nota 3:'))\n",
    "        \n",
    "        alumnos.append(alumno)\n",
    "    return alumnos  \n",
    "\n",
    "def estado(lista_alumnos):\n",
    "    alumnos = notas\n",
    "    i = 0\n",
    "    a =0\n",
    "    d =0\n",
    "    \n",
    "    while i < num_alumnos:\n",
    "        alumno = alumnos[i]\n",
    "        promedio= (alumno['Nota1']+alumno['Nota2']+ alumno['Nota3'])/3\n",
    "        if promedio<4:\n",
    "            d += 1\n",
    "        else:\n",
    "            a += 1      \n",
    "        if i == (num_alumnos-1):\n",
    "            x= print(f'El número de aprobados es {a} y el número de desaprobados es {d}')\n",
    "        i +=1\n",
    "    return x\n",
    "\n",
    "notas= lista_alumnos(num_alumnos)\n",
    "estado(notas)"
   ]
  },
  {
   "cell_type": "markdown",
   "metadata": {},
   "source": [
    "### 3.\n",
    "Informar el promedio de nota del curso total."
   ]
  },
  {
   "cell_type": "code",
   "execution_count": null,
   "metadata": {},
   "outputs": [],
   "source": [
    "import numpy \n",
    "\n",
    "num_alumnos = int(input('Introduce la cantidad de alumnos: '))\n",
    "\n",
    "def lista_alumnos(num_alumnos):\n",
    "    alumnos=[]\n",
    "    for n in range(num_alumnos):\n",
    "        alumno = {} \n",
    "        alumno['Nombre'] = input('Ingrese el nombre completo')\n",
    "        alumno['Nota1'] = float(input('Ingrese nota 1:'))\n",
    "        alumno['Nota2'] = float(input('Ingrese nota 2:'))\n",
    "        alumno['Nota3'] = float(input('Ingrese nota 3:'))\n",
    "        \n",
    "        alumnos.append(alumno)\n",
    "    return alumnos  \n",
    "\n",
    "def total(lista_alumnos):\n",
    "    alumnos = notas\n",
    "    i = 0\n",
    "    a =0\n",
    "    d =0   \n",
    "    promedios= {}\n",
    "    while i < num_alumnos:\n",
    "        alumno = alumnos[i]\n",
    "        promedios[i]=(alumno['Nota1']+alumno['Nota2']+ alumno['Nota3'])/3\n",
    "        i+=1\n",
    "    hola=0\n",
    "    for n in promedios.values():\n",
    "        hola+= n\n",
    "    x= print('El promedio total de la clase es', hola/num_alumnos)\n",
    "    return x  \n",
    "    \n",
    "notas= lista_alumnos(num_alumnos)\n",
    "total(notas)"
   ]
  },
  {
   "cell_type": "code",
   "execution_count": null,
   "metadata": {},
   "outputs": [],
   "source": []
  },
  {
   "cell_type": "markdown",
   "metadata": {},
   "source": [
    "### 4.\n",
    "Realizar una función que indique quién tuvo el promedio más alto y quién tuvo la nota promedio más baja."
   ]
  },
  {
   "cell_type": "code",
   "execution_count": null,
   "metadata": {},
   "outputs": [],
   "source": [
    "num_alumnos = int(input('Introduce la cantidad de alumnos: '))\n",
    "\n",
    "def lista_alumnos(num_alumnos):\n",
    "    alumnos=[]\n",
    "    for n in range(num_alumnos):\n",
    "        alumno = {} \n",
    "        alumno['Nombre'] = input('Ingrese el nombre completo')\n",
    "        alumno['Nota1'] = float(input('Ingrese nota 1:'))\n",
    "        alumno['Nota2'] = float(input('Ingrese nota 2:'))\n",
    "        alumno['Nota3'] = float(input('Ingrese nota 3:'))\n",
    "        \n",
    "        alumnos.append(alumno)\n",
    "    return alumnos  \n",
    "\n",
    "def analisis(lista_alumnos):\n",
    "    alumnos = notas\n",
    "    i = 0     \n",
    "    promedios ={}\n",
    "    while i < num_alumnos:\n",
    "        alumno = alumnos[i]\n",
    "        promedios[i]=(alumno['Nota1']+alumno['Nota2']+ alumno['Nota3'])/3\n",
    "        i+=1  \n",
    "    prom= promedios.values()\n",
    "    for a in sorted(prom):\n",
    "        n=0\n",
    "        while n < len(promedios):    \n",
    "            if n < a:\n",
    "                x= a\n",
    "                y= n\n",
    "            else: \n",
    "                x= n\n",
    "                y=a\n",
    "            n+=1\n",
    "    return (f'El mayor promedio es {x} y el menor promedio es {y}')            \n",
    "      \n",
    "notas= lista_alumnos(num_alumnos)\n",
    "analisis(notas)"
   ]
  },
  {
   "cell_type": "code",
   "execution_count": null,
   "metadata": {},
   "outputs": [],
   "source": []
  },
  {
   "cell_type": "code",
   "execution_count": null,
   "metadata": {},
   "outputs": [],
   "source": []
  },
  {
   "cell_type": "markdown",
   "metadata": {},
   "source": [
    "### 5.\n",
    "Realizar una función que permita buscar un alumno por nombre, siendo el nombre completo o parcial, y devuelva una lista con los n alumnos que concuerden con ese nombre junto con todos sus datos, incluido el promedio de sus notas."
   ]
  },
  {
   "cell_type": "code",
   "execution_count": null,
   "metadata": {},
   "outputs": [],
   "source": []
  }
 ],
 "metadata": {
  "kernelspec": {
   "display_name": "Python 3",
   "language": "python",
   "name": "python3"
  },
  "language_info": {
   "codemirror_mode": {
    "name": "ipython",
    "version": 3
   },
   "file_extension": ".py",
   "mimetype": "text/x-python",
   "name": "python",
   "nbconvert_exporter": "python",
   "pygments_lexer": "ipython3",
   "version": "3.8.5"
  }
 },
 "nbformat": 4,
 "nbformat_minor": 4
}
